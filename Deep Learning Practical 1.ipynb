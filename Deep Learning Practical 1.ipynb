{
 "cells": [
  {
   "cell_type": "markdown",
   "id": "8fe5998d",
   "metadata": {},
   "source": [
    "Practical 1 \n",
    "Problem Statement :\n",
    "1A.Implement Perceptron learning algorithm for classification\n",
    "of following points {P0(-1,-1,-1) , P1(-1,-1,1) , P2(-1,1,-1)\n",
    ", P3(-1,1,1) ,P4(1,-1,-1) , P5(1,-1,1) , P6(1,1,-1)\n",
    ", P7(1,1,1) } in to two classes:\n",
    "\n",
    "C1={P7 (1,1,1)}\n",
    "\n",
    "C2={P0(-1,-1,-1), P1(-1,-1,1) , P2(-1,1,-1) , P3(-1,1,1) ,P4(1,-1,-1), P5(1,-1,1) , P6(1,1,-1) }\n",
    "\n",
    "\n",
    "\n",
    "1B.Write a python program to find the number of\n",
    "linearly separable problems out of total binary classification problems on {P0(-1,-1,-1)\n",
    ", P1(-1,-1,1) , P2(-1,1,-1) , P3(-1,1,1) ,P4(1,-1,-1)\n",
    ", P5(1,-1,1) , P6(1,1,-1) , P7(1,1,1) }."
   ]
  },
  {
   "cell_type": "code",
   "execution_count": 1,
   "id": "7561a060",
   "metadata": {},
   "outputs": [],
   "source": [
    "import numpy as np"
   ]
  },
  {
   "cell_type": "code",
   "execution_count": 2,
   "id": "ac1bf1e1",
   "metadata": {},
   "outputs": [],
   "source": [
    "class Perceptron:\n",
    "    def __init__(self, input_size, learning_rate=0.1, epochs=100):\n",
    "        self.weights = np.zeros(input_size + 1)  # +1 for bias\n",
    "        self.learning_rate = learning_rate\n",
    "        self.epochs = epochs\n",
    "\n",
    "    def activation_fn(self, x):\n",
    "        return 1 if x >= 0 else 0\n",
    "\n",
    "    def predict(self, inputs):\n",
    "        summation = np.dot(inputs, self.weights[1:]) + self.weights[0]  # Dot product + bias\n",
    "        return self.activation_fn(summation)\n",
    "\n",
    "    def train(self, training_inputs, labels):\n",
    "        for _ in range(self.epochs):\n",
    "            for inputs, label in zip(training_inputs, labels):\n",
    "                prediction = self.predict(inputs)\n",
    "                self.weights[1:] += self.learning_rate * (label - prediction) * inputs\n",
    "                self.weights[0] += self.learning_rate * (label - prediction)\n"
   ]
  },
  {
   "cell_type": "code",
   "execution_count": 3,
   "id": "c8a77bf0",
   "metadata": {},
   "outputs": [],
   "source": [
    "points = np.array([\n",
    "    [-1, -1, -1],  \n",
    "    [-1, -1, 1],   \n",
    "    [-1, 1, -1],   \n",
    "    [-1, 1, 1],    \n",
    "    [1, -1, -1],   \n",
    "    [1, -1, 1],     \n",
    "    [1, 1, -1],    \n",
    "    [1, 1, 1]      \n",
    "])"
   ]
  },
  {
   "cell_type": "code",
   "execution_count": 4,
   "id": "9696e99b",
   "metadata": {},
   "outputs": [],
   "source": [
    "class_labels = np.array([0, 0, 0, 0, 1, 1, 1, 1])"
   ]
  },
  {
   "cell_type": "code",
   "execution_count": 5,
   "id": "2d4fb6ed",
   "metadata": {},
   "outputs": [],
   "source": [
    "perceptron = Perceptron(input_size=3)\n",
    "perceptron.train(points, class_labels)"
   ]
  },
  {
   "cell_type": "code",
   "execution_count": 6,
   "id": "48ca8db3",
   "metadata": {},
   "outputs": [],
   "source": [
    "test_points = np.array([\n",
    "    [0, 0, 0],   \n",
    "    [-1, -1, 0]  \n",
    "])\n"
   ]
  },
  {
   "cell_type": "code",
   "execution_count": 7,
   "id": "a2247898",
   "metadata": {},
   "outputs": [
    {
     "name": "stdout",
     "output_type": "stream",
     "text": [
      "Point [0 0 0] belongs to class 0\n",
      "Point [-1 -1  0] belongs to class 0\n"
     ]
    }
   ],
   "source": [
    "for point in test_points:\n",
    "    prediction = perceptron.predict(point)\n",
    "    print(f\"Point {point} belongs to class {prediction}\")"
   ]
  },
  {
   "cell_type": "code",
   "execution_count": 8,
   "id": "737db264",
   "metadata": {},
   "outputs": [],
   "source": [
    "AND_gate = Perceptron(input_size=2)\n",
    "AND_gate.weights = np.array([-0.5, 0.5, 0.5])  \n",
    "OR_gate = Perceptron(input_size=2)\n",
    "OR_gate.weights = np.array([-0.5, 1, 1])       \n",
    "NOT_gate = Perceptron(input_size=1)\n",
    "NOT_gate.weights = np.array([0.5, -1]) "
   ]
  },
  {
   "cell_type": "code",
   "execution_count": 9,
   "id": "cde0d34a",
   "metadata": {},
   "outputs": [],
   "source": [
    "test_inputs = np.array([[0, 0], [0, 1], [1, 0], [1, 1]])"
   ]
  },
  {
   "cell_type": "code",
   "execution_count": 10,
   "id": "e8c10911",
   "metadata": {},
   "outputs": [
    {
     "name": "stdout",
     "output_type": "stream",
     "text": [
      "AND([0 0]) = 0\n",
      "OR([0 0]) = 0\n",
      "NOT(0) = 1\n",
      "AND([0 1]) = 1\n",
      "OR([0 1]) = 1\n",
      "NOT(0) = 1\n",
      "AND([1 0]) = 1\n",
      "OR([1 0]) = 1\n",
      "NOT(1) = 0\n",
      "AND([1 1]) = 1\n",
      "OR([1 1]) = 1\n",
      "NOT(1) = 0\n"
     ]
    }
   ],
   "source": [
    "for input_pair in test_inputs:\n",
    "    print(f\"AND({input_pair}) = {AND_gate.predict(input_pair)}\")\n",
    "    print(f\"OR({input_pair}) = {OR_gate.predict(input_pair)}\")\n",
    "    print(f\"NOT({input_pair[0]}) = {NOT_gate.predict([input_pair[0]])}\")"
   ]
  },
  {
   "cell_type": "code",
   "execution_count": 20,
   "id": "417118a9",
   "metadata": {},
   "outputs": [],
   "source": [
    "import itertools\n",
    "import numpy as np"
   ]
  },
  {
   "cell_type": "code",
   "execution_count": 21,
   "id": "e17c3ab2",
   "metadata": {},
   "outputs": [],
   "source": [
    "points = {\n",
    "    \"P0\": [-1, -1, -1],\n",
    "    \"P1\": [-1, -1, 1],\n",
    "    \"P2\": [-1, 1, -1],\n",
    "    \"P3\": [-1, 1, 1],\n",
    "    \"P4\": [1, -1, -1],\n",
    "    \"P5\": [1, -1, 1],\n",
    "    \"P6\": [1, 1, -1],\n",
    "    \"P7\": [1, 1, 1]\n",
    "}"
   ]
  },
  {
   "cell_type": "code",
   "execution_count": 22,
   "id": "ad3da44a",
   "metadata": {},
   "outputs": [],
   "source": [
    "class_pairs = list(itertools.combinations(points.keys(), 2))"
   ]
  },
  {
   "cell_type": "code",
   "execution_count": 23,
   "id": "b4dc0303",
   "metadata": {},
   "outputs": [],
   "source": [
    "def is_linearly_separable(points_A, points_B):\n",
    "    # A helper function to check if the points can be separated by a hyperplane\n",
    "    def can_be_separated(points):\n",
    "        return not all(np.array(point) == points[0] for point in points)\n",
    "\n",
    "    return can_be_separated(points_A) and can_be_separated(points_B)\n"
   ]
  },
  {
   "cell_type": "code",
   "execution_count": 36,
   "id": "7bfb2103",
   "metadata": {},
   "outputs": [
    {
     "name": "stdout",
     "output_type": "stream",
     "text": [
      "Total binary classification problems: 28\n",
      "Number of linearly separable problems: 15\n"
     ]
    }
   ],
   "source": [
    "def is_linearly_separable(points_A, points_B):\n",
    "    # A helper function to check if the points can be separated by a hyperplane\n",
    "    def can_be_separated(points):\n",
    "        return not all(np.array(point) == points[0] for point in points)\n",
    "\n",
    "    return can_be_separated(points_A) and can_be_separated(points_B)\n",
    "\n",
    "# Count the number of linearly separable problems\n",
    "linearly_separable_count = 0\n",
    "for class_pair in class_pairs:\n",
    "    class_A_label, class_B_label = class_pair\n",
    "    class_A_points = points[class_A_label]\n",
    "    class_B_points = points[class_B_label]\n",
    "    if is_linearly_separable(class_A_points, class_B_points):\n",
    "        linearly_separable_count += 1\n",
    "\n",
    "total_binary_classification_problems = len(class_pairs)\n",
    "print(\"Total binary classification problems:\", total_binary_classification_problems)\n",
    "print(\"Number of linearly separable problems:\", linearly_separable_count)\n"
   ]
  },
  {
   "cell_type": "code",
   "execution_count": null,
   "id": "13007d98",
   "metadata": {},
   "outputs": [],
   "source": []
  },
  {
   "cell_type": "code",
   "execution_count": null,
   "id": "77772b07",
   "metadata": {},
   "outputs": [],
   "source": []
  },
  {
   "cell_type": "code",
   "execution_count": null,
   "id": "330ab157",
   "metadata": {},
   "outputs": [],
   "source": []
  },
  {
   "cell_type": "code",
   "execution_count": null,
   "id": "ee3dedfa",
   "metadata": {},
   "outputs": [],
   "source": []
  },
  {
   "cell_type": "code",
   "execution_count": null,
   "id": "ab39aa94",
   "metadata": {},
   "outputs": [],
   "source": []
  },
  {
   "cell_type": "code",
   "execution_count": null,
   "id": "10a8c06a",
   "metadata": {},
   "outputs": [],
   "source": []
  },
  {
   "cell_type": "code",
   "execution_count": null,
   "id": "a076b04e",
   "metadata": {},
   "outputs": [],
   "source": []
  },
  {
   "cell_type": "code",
   "execution_count": null,
   "id": "31602f0e",
   "metadata": {},
   "outputs": [],
   "source": []
  },
  {
   "cell_type": "code",
   "execution_count": null,
   "id": "5927f629",
   "metadata": {},
   "outputs": [],
   "source": []
  },
  {
   "cell_type": "code",
   "execution_count": null,
   "id": "bfb6a028",
   "metadata": {},
   "outputs": [],
   "source": []
  },
  {
   "cell_type": "code",
   "execution_count": null,
   "id": "f3c34306",
   "metadata": {},
   "outputs": [],
   "source": []
  },
  {
   "cell_type": "code",
   "execution_count": null,
   "id": "941941a6",
   "metadata": {},
   "outputs": [],
   "source": []
  },
  {
   "cell_type": "code",
   "execution_count": null,
   "id": "72818827",
   "metadata": {},
   "outputs": [],
   "source": []
  },
  {
   "cell_type": "code",
   "execution_count": null,
   "id": "27f51709",
   "metadata": {},
   "outputs": [],
   "source": []
  },
  {
   "cell_type": "code",
   "execution_count": null,
   "id": "c283f5fe",
   "metadata": {},
   "outputs": [],
   "source": []
  },
  {
   "cell_type": "code",
   "execution_count": null,
   "id": "b0682396",
   "metadata": {},
   "outputs": [],
   "source": []
  }
 ],
 "metadata": {
  "kernelspec": {
   "display_name": "Python 3 (ipykernel)",
   "language": "python",
   "name": "python3"
  },
  "language_info": {
   "codemirror_mode": {
    "name": "ipython",
    "version": 3
   },
   "file_extension": ".py",
   "mimetype": "text/x-python",
   "name": "python",
   "nbconvert_exporter": "python",
   "pygments_lexer": "ipython3",
   "version": "3.11.5"
  }
 },
 "nbformat": 4,
 "nbformat_minor": 5
}
